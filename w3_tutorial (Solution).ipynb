{
 "cells": [
  {
   "cell_type": "markdown",
   "id": "23947516",
   "metadata": {},
   "source": [
    "# Tutorial week 3\n",
    "\n",
    "## Leaning outcomes\n",
    "1. Download online images\n",
    "2. Read, save and display images\n",
    "3. Read, save, and display videos\n",
    "4. Resize images\n",
    "    * Resize interpolation methods:\n",
    "        * Nearest neighbor\n",
    "        * Bilinear\n",
    "        * Cubic\n",
    "        * Lanczos"
   ]
  },
  {
   "cell_type": "markdown",
   "id": "efbb659c",
   "metadata": {},
   "source": [
    "## Intro of OpenCV in Python\n",
    "Setup procedure:\n",
    "1. Install Python and its IDE, preferably Jupyter notebook.\n",
    "2. Install OpenCV module by the following steps:\n",
    "    - Open cmd terminal\n",
    "    - Type in `pip install opencv-contrib-python`.\n",
    "\n",
    "Before we starts playing around with some of the OpenCV built-in functions, lets briefly walk through what is OpenCV. Created in 1999, OpenCV currently supports a lot of algorithms related to **Computer Vision** and **Machine Learning**. OpenCV supports a wide variety of programming languages like C++, Python and Java and is available on different platforms like Window, Linux and so on.\n",
    "\n",
    "OpenCV-Python is the Python API of OpenCV. OpenCV-Python is a Python wrapper around original C++ implementation. Another upside of using OpenCV-Python is that OpenCV array structures converted to and from Numpy arrays. So, whatever operations you can do in Numpy, you can combine it with OpenCV. All in all, OpenCV-Python is an appropriate tool for fast prototyping of computer vision problems."
   ]
  },
  {
   "cell_type": "markdown",
   "id": "2470aecd",
   "metadata": {},
   "source": [
    "## Setup"
   ]
  },
  {
   "cell_type": "code",
   "execution_count": 3,
   "id": "1346188b",
   "metadata": {},
   "outputs": [
    {
     "name": "stdout",
     "output_type": "stream",
     "text": [
      "Collecting opencv-contrib-pythonNote: you may need to restart the kernel to use updated packages.\n",
      "\n",
      "  Obtaining dependency information for opencv-contrib-python from https://files.pythonhosted.org/packages/a7/9e/7110d2c5d543ab03b9581dbb1f8e2429863e44e0c9b4960b766f230c1279/opencv_contrib_python-4.10.0.84-cp37-abi3-win_amd64.whl.metadata\n",
      "  Downloading opencv_contrib_python-4.10.0.84-cp37-abi3-win_amd64.whl.metadata (20 kB)\n",
      "Requirement already satisfied: numpy>=1.21.2 in d:\\anacondapython\\lib\\site-packages (from opencv-contrib-python) (1.24.3)\n",
      "Downloading opencv_contrib_python-4.10.0.84-cp37-abi3-win_amd64.whl (45.5 MB)\n",
      "   ---------------------------------------- 0.0/45.5 MB ? eta -:--:--\n",
      "   ---------------------------------------- 0.0/45.5 MB 1.9 MB/s eta 0:00:24\n",
      "   ---------------------------------------- 0.1/45.5 MB 1.8 MB/s eta 0:00:25\n",
      "   ---------------------------------------- 0.2/45.5 MB 2.3 MB/s eta 0:00:20\n",
      "   ---------------------------------------- 0.3/45.5 MB 2.2 MB/s eta 0:00:21\n",
      "   ---------------------------------------- 0.4/45.5 MB 2.4 MB/s eta 0:00:19\n",
      "    --------------------------------------- 0.7/45.5 MB 3.6 MB/s eta 0:00:13\n",
      "   - -------------------------------------- 1.2/45.5 MB 5.2 MB/s eta 0:00:09\n",
      "   - -------------------------------------- 1.9/45.5 MB 6.6 MB/s eta 0:00:07\n",
      "   -- ------------------------------------- 2.9/45.5 MB 9.4 MB/s eta 0:00:05\n",
      "   --- ------------------------------------ 3.9/45.5 MB 11.4 MB/s eta 0:00:04\n",
      "   ---- ----------------------------------- 5.1/45.5 MB 13.1 MB/s eta 0:00:04\n",
      "   ----- ---------------------------------- 6.0/45.5 MB 14.2 MB/s eta 0:00:03\n",
      "   ------ --------------------------------- 6.8/45.5 MB 15.1 MB/s eta 0:00:03\n",
      "   ------ --------------------------------- 7.7/45.5 MB 15.4 MB/s eta 0:00:03\n",
      "   ------- -------------------------------- 9.0/45.5 MB 17.0 MB/s eta 0:00:03\n",
      "   -------- ------------------------------- 10.1/45.5 MB 17.9 MB/s eta 0:00:02\n",
      "   --------- ------------------------------ 11.1/45.5 MB 26.2 MB/s eta 0:00:02\n",
      "   ---------- ----------------------------- 11.8/45.5 MB 28.5 MB/s eta 0:00:02\n",
      "   ----------- ---------------------------- 12.7/45.5 MB 27.3 MB/s eta 0:00:02\n",
      "   ------------ --------------------------- 14.1/45.5 MB 28.5 MB/s eta 0:00:02\n",
      "   ------------- -------------------------- 15.2/45.5 MB 27.3 MB/s eta 0:00:02\n",
      "   -------------- ------------------------- 16.1/45.5 MB 28.5 MB/s eta 0:00:02\n",
      "   -------------- ------------------------- 16.9/45.5 MB 28.5 MB/s eta 0:00:02\n",
      "   --------------- ------------------------ 17.7/45.5 MB 27.3 MB/s eta 0:00:02\n",
      "   ---------------- ----------------------- 18.5/45.5 MB 27.3 MB/s eta 0:00:01\n",
      "   ---------------- ----------------------- 19.0/45.5 MB 27.3 MB/s eta 0:00:01\n",
      "   ---------------- ----------------------- 19.0/45.5 MB 27.3 MB/s eta 0:00:01\n",
      "   ---------------- ----------------------- 19.0/45.5 MB 27.3 MB/s eta 0:00:01\n",
      "   ---------------- ----------------------- 19.0/45.5 MB 27.3 MB/s eta 0:00:01\n",
      "   ---------------- ----------------------- 19.0/45.5 MB 27.3 MB/s eta 0:00:01\n",
      "   ----------------- ---------------------- 20.3/45.5 MB 19.8 MB/s eta 0:00:02\n",
      "   ------------------ --------------------- 20.7/45.5 MB 18.2 MB/s eta 0:00:02\n",
      "   ------------------- -------------------- 22.6/45.5 MB 19.3 MB/s eta 0:00:02\n",
      "   -------------------- ------------------- 23.3/45.5 MB 19.2 MB/s eta 0:00:02\n",
      "   --------------------- ------------------ 24.2/45.5 MB 18.7 MB/s eta 0:00:02\n",
      "   ---------------------- ----------------- 25.5/45.5 MB 18.7 MB/s eta 0:00:02\n",
      "   ---------------------- ----------------- 26.0/45.5 MB 18.7 MB/s eta 0:00:02\n",
      "   ----------------------- ---------------- 26.7/45.5 MB 18.2 MB/s eta 0:00:02\n",
      "   ----------------------- ---------------- 27.1/45.5 MB 17.7 MB/s eta 0:00:02\n",
      "   ------------------------ --------------- 28.1/45.5 MB 18.2 MB/s eta 0:00:01\n",
      "   ------------------------- -------------- 29.1/45.5 MB 18.2 MB/s eta 0:00:01\n",
      "   -------------------------- ------------- 30.2/45.5 MB 24.2 MB/s eta 0:00:01\n",
      "   --------------------------- ------------ 31.1/45.5 MB 26.2 MB/s eta 0:00:01\n",
      "   --------------------------- ------------ 31.9/45.5 MB 24.2 MB/s eta 0:00:01\n",
      "   --------------------------- ------------ 31.9/45.5 MB 24.2 MB/s eta 0:00:01\n",
      "   --------------------------- ------------ 31.9/45.5 MB 24.2 MB/s eta 0:00:01\n",
      "   ---------------------------- ----------- 32.9/45.5 MB 19.8 MB/s eta 0:00:01\n",
      "   ------------------------------- -------- 35.3/45.5 MB 23.4 MB/s eta 0:00:01\n",
      "   ------------------------------- -------- 35.9/45.5 MB 21.8 MB/s eta 0:00:01\n",
      "   ------------------------------- -------- 36.2/45.5 MB 21.1 MB/s eta 0:00:01\n",
      "   -------------------------------- ------- 36.6/45.5 MB 21.9 MB/s eta 0:00:01\n",
      "   -------------------------------- ------- 36.6/45.5 MB 21.9 MB/s eta 0:00:01\n",
      "   -------------------------------- ------- 37.0/45.5 MB 19.3 MB/s eta 0:00:01\n",
      "   ---------------------------------- ----- 39.2/45.5 MB 21.1 MB/s eta 0:00:01\n",
      "   ---------------------------------- ----- 39.7/45.5 MB 20.5 MB/s eta 0:00:01\n",
      "   ----------------------------------- ---- 40.3/45.5 MB 19.8 MB/s eta 0:00:01\n",
      "   ------------------------------------ --- 41.6/45.5 MB 20.5 MB/s eta 0:00:01\n",
      "   ------------------------------------- -- 42.3/45.5 MB 25.1 MB/s eta 0:00:01\n",
      "   -------------------------------------- - 43.4/45.5 MB 23.4 MB/s eta 0:00:01\n",
      "   -------------------------------------- - 44.2/45.5 MB 21.8 MB/s eta 0:00:01\n",
      "   ---------------------------------------  45.2/45.5 MB 21.1 MB/s eta 0:00:01\n",
      "   ---------------------------------------  45.5/45.5 MB 20.5 MB/s eta 0:00:01\n",
      "   ---------------------------------------  45.5/45.5 MB 20.5 MB/s eta 0:00:01\n",
      "   ---------------------------------------  45.5/45.5 MB 20.5 MB/s eta 0:00:01\n",
      "   ---------------------------------------  45.5/45.5 MB 20.5 MB/s eta 0:00:01\n",
      "   ---------------------------------------  45.5/45.5 MB 20.5 MB/s eta 0:00:01\n",
      "   ---------------------------------------  45.5/45.5 MB 20.5 MB/s eta 0:00:01\n",
      "   ---------------------------------------  45.5/45.5 MB 20.5 MB/s eta 0:00:01\n",
      "   ---------------------------------------  45.5/45.5 MB 20.5 MB/s eta 0:00:01\n",
      "   ---------------------------------------  45.5/45.5 MB 20.5 MB/s eta 0:00:01\n",
      "   ---------------------------------------  45.5/45.5 MB 20.5 MB/s eta 0:00:01\n",
      "   ---------------------------------------  45.5/45.5 MB 20.5 MB/s eta 0:00:01\n",
      "   ---------------------------------------- 45.5/45.5 MB 11.1 MB/s eta 0:00:00\n",
      "Installing collected packages: opencv-contrib-python\n",
      "Successfully installed opencv-contrib-python-4.10.0.84\n"
     ]
    }
   ],
   "source": [
    "pip install opencv-contrib-python"
   ]
  },
  {
   "cell_type": "code",
   "execution_count": 1,
   "id": "a5204cd6",
   "metadata": {},
   "outputs": [
    {
     "name": "stdout",
     "output_type": "stream",
     "text": [
      "Is OpenCV running on optimized code? True\n"
     ]
    }
   ],
   "source": [
    "import sys\n",
    "# assert that it is Python version 3.8\n",
    "assert sys.version_info >= (3, 8)\n",
    "\n",
    "import cv2 as cv\n",
    "import numpy as np\n",
    "\n",
    "# Check whether opencv is running on optimized code\n",
    "if not cv.useOptimized():\n",
    "    cv.setUseOptimized(True)\n",
    "    \n",
    "print(f\"Is OpenCV running on optimized code? {cv.useOptimized()}\")"
   ]
  },
  {
   "cell_type": "markdown",
   "id": "ac0c181f",
   "metadata": {},
   "source": [
    "# Download online images"
   ]
  },
  {
   "cell_type": "code",
   "execution_count": 2,
   "id": "55dd2fc8",
   "metadata": {},
   "outputs": [
    {
     "data": {
      "text/plain": [
       "('images/nature.jpg', <http.client.HTTPMessage at 0x198ed25e290>)"
      ]
     },
     "execution_count": 2,
     "metadata": {},
     "output_type": "execute_result"
    }
   ],
   "source": [
    "from urllib.request import urlretrieve\n",
    "\n",
    "url = \"https://img.freepik.com/free-photo/long-shot-majestic-la-paz-waterfalls-middle-lush-forest-cinchona-costa-rica_181624-14241.jpg?t=st=1720688209~exp=1720691809~hmac=ea5ba4f49051ca6247331b352541f43a21b021ee99a18718cc34c020d111a837&w=360\"\n",
    "\n",
    "urlretrieve(url, \"images/nature.jpg\")"
   ]
  },
  {
   "cell_type": "code",
   "execution_count": 3,
   "id": "eb46d43b",
   "metadata": {},
   "outputs": [
    {
     "data": {
      "image/jpeg": "[encoded data removed]",
      "text/plain": [
       "<IPython.core.display.Image object>"
      ]
     },
     "execution_count": 3,
     "metadata": {},
     "output_type": "execute_result"
    }
   ],
   "source": [
    "from IPython.display import Image\n",
    "Image(\"images/nature.jpg\")"
   ]
  },
  {
   "cell_type": "code",
   "execution_count": 4,
   "id": "ab8a0cc6",
   "metadata": {},
   "outputs": [],
   "source": [
    "from utils import download_save_image\n",
    "download_save_image(url, \"images/nature.jpg\")"
   ]
  },
  {
   "cell_type": "markdown",
   "id": "3c5a8bfe",
   "metadata": {},
   "source": [
    "# Read, display and save images with OpenCV\n",
    "OpenCV only can handle TIFF, BMP, JPEG, PNG and WEBP image files."
   ]
  },
  {
   "cell_type": "markdown",
   "id": "fedb373f",
   "metadata": {},
   "source": [
    "## Different formats of images\n",
    "There are wide variety of image file types out there. We will discuss a few common image formats, including:\n",
    "1. TIFF(.tif)\n",
    "    * Used for storing high quality images with detailed color information, thus it is one of the preferred format in printing and publishing.\n",
    "    * Large file size & limited web support.\n",
    "2. BMP(.bmp)\n",
    "    * *Uncompressed* BMP file could have much larger file size compared to JPEG and PNG. \n",
    "    * device-independent.\n",
    "    * Higher quality that JPEG images.\n",
    "3. GIF(.gif)\n",
    "    * GIF files can store multiple frames, enabling simple animations.\n",
    "    * GIF files can have transparent backgrounds, similar to PNG.\n",
    "    * `cv.imread()` function can't handle this format, we need other external module.\n",
    "4. JPEG(.jpeg, .jpg, .jfif)\n",
    "    * *Lossy* compression\n",
    "    * JPEG is highly popular supported by virtually all image editing softwares and browsers.\n",
    "5. PNG(.png)\n",
    "    * *Lossless* compression and supports transparency.\n",
    "    * Has larger file size compared to JPEG\n",
    "    * widely supported, similar to JPEG\n",
    "6. WebP(.webp)\n",
    "    * Allows websites to display high-quality images.\n",
    "    * Offers smaller file sizes compared to JPEG and PNG. Uncompressed WebP images are 1.42x smaller than JPEG and 1.7x smaller than PNG ([link](https://www.google.com/url?sa=t&source=web&rct=j&opi=89978449&url=https://photutorial.com/image-format-comparison-statistics/)).\n",
    "\n",
    "Each format serves different purposes, and the choice depends on the specific needs of image quality, file size, compatibility, and intended use.\n",
    "\n",
    "| Image file types | Frequent use cases |\n",
    "| ----- | ----- |\n",
    "| TIFF | High quality archiving and printing |\n",
    "| PNG | Web graphics with transparency |\n",
    "| JPEG | Web use and sharing |\n",
    "| WebP | Alternatives to JPEG |\n",
    "| GIF | Animation |\n",
    "| BMP | High-quality editing |"
   ]
  },
  {
   "cell_type": "code",
   "execution_count": 5,
   "id": "89169950",
   "metadata": {},
   "outputs": [],
   "source": [
    "# read and display JPEG file\n",
    "# images can be categorized into color (3D array) or grayscale (2D array)\n",
    "img = cv.imread(\"images/lena.jfif\")  # img is NumPy array (color, BGR format)\n",
    "img_grayscale = cv.imread(\"images/lena.jfif\", 0)  # grayscale\n",
    "\n",
    "cv.imshow(\"color\", img)\n",
    "cv.imshow(\"grayscale\", img_grayscale)\n",
    "cv.waitKey(0)  # the window will not quit unless receive ESC keystroke\n",
    "cv.destroyAllWindows()"
   ]
  },
  {
   "cell_type": "code",
   "execution_count": 10,
   "id": "68b8e008",
   "metadata": {},
   "outputs": [],
   "source": [
    "from utils import display_images\n",
    "\n",
    "display_images([img, img_grayscale], (\"color\", \"grayscale\"))"
   ]
  },
  {
   "cell_type": "code",
   "execution_count": 11,
   "id": "9327d049",
   "metadata": {},
   "outputs": [],
   "source": [
    "# TIFF and PNG\n",
    "img_tif = cv.imread(\"images/lena.tif\")\n",
    "img_png = cv.imread(\"images/lena.png\")\n",
    "\n",
    "display_images([img_tif, img_png], (\"tif\", \"png\"))"
   ]
  },
  {
   "cell_type": "markdown",
   "id": "c3fa36e2",
   "metadata": {},
   "source": [
    "## Issue with GIF"
   ]
  },
  {
   "cell_type": "code",
   "execution_count": 5,
   "id": "59ea7df7",
   "metadata": {},
   "outputs": [],
   "source": [
    "import imageio\n",
    "\n",
    "gif = imageio.mimread(\"images/rotating_earth_large.gif\") # RGB format\n",
    "\n",
    "# RGB -> BGR\n",
    "imgs = [cv.cvtColor(img, cv.COLOR_RGB2BGR) for img in gif]\n",
    "\n",
    "for img in imgs:\n",
    "    cv.imshow(\"gif\", img)\n",
    "    cv.waitKey(100)  # wait for 0.1 second for each frame\n",
    "\n",
    "cv.destroyAllWindows()"
   ]
  },
  {
   "cell_type": "markdown",
   "id": "6324036c",
   "metadata": {},
   "source": [
    "## read, display and save image at once"
   ]
  },
  {
   "cell_type": "code",
   "execution_count": 7,
   "id": "fcd4f652",
   "metadata": {},
   "outputs": [],
   "source": [
    "img = cv.imread(\"images/nature.jpg\")\n",
    "\n",
    "if img is None:\n",
    "    sys.exit(\"Image file path not exist!\")\n",
    "\n",
    "cv.imshow(\"nature\", img)\n",
    "\n",
    "k = cv.waitKey(0) & 0xFF\n",
    "if k == ord('s'):\n",
    "    cv.imwrite(\"nature1.jpg\", img)\n",
    "\n",
    "cv.destroyAllWindows()"
   ]
  },
  {
   "attachments": {},
   "cell_type": "markdown",
   "id": "caf074b9",
   "metadata": {},
   "source": [
    "k = cv.waitKey(0) & 0xFF\n",
    "\n",
    "if k == ord('s'):\n",
    "\n",
    "    cv.imwrite(\"nature1.jpg\", img)\n",
    "\n",
    "\n",
    "the waitKey will wait for ESC keystroke or s keystroke to save image in\n",
    "file directory."
   ]
  },
  {
   "cell_type": "markdown",
   "id": "e4e0ccad",
   "metadata": {},
   "source": [
    "## Read an image\n",
    "Let's try to read all the images into the workspace.\n",
    "Before that, let's set our eye to `imread()` function:\n",
    "```{python}\n",
    "cv.imread(filename, flag)\n",
    "```\n",
    "It takes 2 arguments:\n",
    "* `filename` - image file name (Note: specify the whole path if the image is not in the working directory).\n",
    "* `flag` -  specify how image should be represented.\n",
    "    - `cv.IMREAD_UNCHANGED` or -1\n",
    "    - `cv.IMREAD_GRAYSCALE` or 0\n",
    "    - `cv.IMREAD_COLOR` or 1 (default)\n",
    "    \n",
    "More `flag` arguments for `cv.imread()`, please refer to the [online documentation](https://docs.opencv.org/4.x/d8/d6a/group__imgcodecs__flags.html#ga61d9b0126a3e57d9277ac48327799c80).\n",
    "\n",
    "## Display image\n",
    "You can display image using `imshow()` function:\n",
    "```{python}\n",
    "cv.imshow(window_name, image)\n",
    "```\n",
    "This function takes 2 arguments:\n",
    "1. `window_name` - window name that will be displayed.\n",
    "2. `image` - image (Numpy array)\n",
    "\n",
    "To display multiple images at once, you can <mark>call this function multiple times.</mark>\n",
    "\n",
    "The `cv.imshow()` function is designed to use alongside `cv.waitKey()` and `cv.destroyAllWindows()` or `cv.destroyWindow()` functions.\n",
    "\n",
    "`cv.waitKey()` function is a keyboard-binding function. It takes single argument, which is time (miliseconds). If the user press any key within this period, the program continues. If 0 is passed, the program waits indefinitely for a keystroke. You can set the function to detect a specific keystroke like Esc key and any alphabet. For ASCII code of keyboard, please refer to this [link](https://theasciicode.com.ar/).\n",
    "\n",
    "`cv.destroyAllWindows()` destroys all windows we created. "
   ]
  },
  {
   "cell_type": "code",
   "execution_count": 17,
   "id": "94b5a709",
   "metadata": {},
   "outputs": [],
   "source": [
    "img = cv.imread('images/lena.jfif')\n",
    "img_grayscale = cv.imread('images/lena.jfif', 0)\n",
    "\n",
    "cv.imshow(\"original\", img)\n",
    "cv.imshow('grayscale', img_grayscale)\n",
    "cv.waitKey(0)\n",
    "cv.destroyAllWindows()"
   ]
  },
  {
   "cell_type": "code",
   "execution_count": 18,
   "id": "adc8a89b",
   "metadata": {},
   "outputs": [],
   "source": [
    "# TIFF\n",
    "img = cv.imread('images/lena.tif')\n",
    "cv.imshow('TIFF image', img)\n",
    "cv.waitKey(0)\n",
    "cv.destroyAllWindows()"
   ]
  },
  {
   "cell_type": "code",
   "execution_count": 19,
   "id": "8daacb7b",
   "metadata": {},
   "outputs": [],
   "source": [
    "img = cv.imread('images/lena.png')\n",
    "cv.imshow('PNG image', img)\n",
    "cv.waitKey(0)\n",
    "cv.destroyAllWindows()"
   ]
  },
  {
   "cell_type": "markdown",
   "id": "25c288e3",
   "metadata": {},
   "source": [
    "**Warning** ⚠️\n",
    "___\n",
    "You will run into execution error if you use `cv.imread` on GIF file. The workaround is we need to load the gif to `numpy.ndarray` and change the channel orders. You can refer to this [stackoverflow post](https://stackoverflow.com/questions/48163539/how-to-read-gif-from-url-using-opencv-python) for more info."
   ]
  },
  {
   "cell_type": "code",
   "execution_count": 4,
   "id": "d3881407",
   "metadata": {},
   "outputs": [],
   "source": [
    "import imageio"
   ]
  },
  {
   "cell_type": "code",
   "execution_count": 5,
   "id": "89f07348",
   "metadata": {},
   "outputs": [],
   "source": [
    "gif = imageio.mimread('images/rotating_earth_large.gif')\n",
    "# Convert from RGB to BGR format\n",
    "imgs = [cv.cvtColor(img, cv.COLOR_RGB2BGR) for img in gif]\n",
    "cv.imshow('GIF image', imgs[0])\n",
    "cv.waitKey(0)\n",
    "cv.destroyAllWindows()"
   ]
  },
  {
   "cell_type": "markdown",
   "id": "eda99351",
   "metadata": {},
   "source": [
    "## Save image\n",
    "The function is `cv.imwrite()`:\n",
    "```{python}\n",
    "cv.imwrite(filename, image)\n",
    "```\n",
    "It takes 2 arguments:\n",
    "* `filename` - must include the image file extension, like .jpg, .png, and etc)\n",
    "* `image` - image (Numpy array)"
   ]
  },
  {
   "cell_type": "code",
   "execution_count": 7,
   "id": "019e933e",
   "metadata": {},
   "outputs": [
    {
     "data": {
      "text/plain": [
       "True"
      ]
     },
     "execution_count": 7,
     "metadata": {},
     "output_type": "execute_result"
    }
   ],
   "source": [
    "cv.imwrite('lena_save.jpg', img)"
   ]
  },
  {
   "cell_type": "markdown",
   "id": "bf57625c",
   "metadata": {},
   "source": [
    "# read, display and save video"
   ]
  },
  {
   "cell_type": "code",
   "execution_count": 33,
   "id": "b2554f47",
   "metadata": {},
   "outputs": [],
   "source": [
    "cap = cv.VideoCapture('videos/img_pexels.mp4')  # 0: webcam, filepath\n",
    "\n",
    "if not cap.isOpened():\n",
    "    raise Exception(\"The video path not present!\")\n",
    "\n",
    "# to save video file, we need width, height, fourcc, fps to define a videowriter API\n",
    "width = int(cap.get(3))\n",
    "height = int(cap.get(4))\n",
    "fourcc = cv.VideoWriter_fourcc('M', 'J', 'P', 'G')\n",
    "fps = 15\n",
    "out = cv.VideoWriter('pexels_save.avi', fourcc, fps, (width, height))\n",
    "\n",
    "# read frame with loop\n",
    "while cap.isOpened():\n",
    "    ret, frame = cap.read()\n",
    "    \n",
    "    if not ret:\n",
    "        print(\"Frame not received!\")\n",
    "        break\n",
    "    \n",
    "    # save the video\n",
    "    out.write(frame)\n",
    "    \n",
    "    cv.namedWindow(\"frame\", cv.WINDOW_NORMAL)\n",
    "    cv.imshow(\"frame\", frame)\n",
    "    \n",
    "    if cv.waitKey(1) & 0xFF == 27:   # ESC keystroke\n",
    "        break\n",
    "\n",
    "cap.release()\n",
    "out.release()\n",
    "cv.destroyAllWindows()"
   ]
  },
  {
   "cell_type": "markdown",
   "id": "9d8cf024",
   "metadata": {},
   "source": [
    "## Basic Video operations using OpenCV\n",
    "\n",
    "A video is nothing but a series of images knit together. These image are often called frames. So, what you need to do is loop over all the frames in sequences, and then process one frame at a time.\n",
    "\n",
    "### Read and display video from file\n",
    "Use `cv.VideoCapture()` class to invoke a VideoCapture object which is useful to read video file.\n",
    "```{python}\n",
    "cv.VideoCapture(path, apiPreference)\n",
    "```\n",
    "The function has 2 arguments:\n",
    "1. `path` - directory path to the video file. 0 for webcam capture.\n",
    "2. `apiPreference` - optional\n",
    "\n",
    "Furthermore, there are some methods related to `VideoCapture` object that are worth mentioning:\n",
    "* `isOpened()` method returns a boolean indicating whether a video file is opened successfully. \n",
    "* `read()` returns the video frame.\n",
    "* `get()` method retrive metadata associated with the video. It takes one argument (enumerator). `get(3)` --> width of frame, `get(4)` --> height of frame, `get(5)` --> frame rate. More info, please refer to this [online documentation](https://docs.opencv.org/2.4/modules/highgui/doc/reading_and_writing_images_and_video.html)\n",
    "\n",
    "How to read image frames from the file? Create a loop and read one frame at a time from the video stream using `read()` method. It returns a tuple, where the first element is a boolean and the second argument is the video frame.\n",
    "\n",
    "### Save videos\n",
    "In order to save a video file, you first need to create a video writer object from `cv.VideoWriter()` class. Syntax for `cv.VideoWriter()`:\n",
    "```python\n",
    "cv.VideoWriter(filename, fourcc, fps, framesize, isColor)\n",
    "```\n",
    "It takes 5 arguments:\n",
    "* `filename` - file path name\n",
    "* `fourcc` - 4-character code of codec. Fourcc is a 32 bit (4 byte) ASCII Character code used to uniquely identifies video formats. Below are the video codecs which corresponds to .avi video.\n",
    "    - `cv.VideoWriter_fourcc('M', 'J', 'P', 'G')` for .avi video file\n",
    "    - `cv.VideoWriter_fourcc(*'MP4V')` for .mp4 file\n",
    "* `fps`: frame rate per second\n",
    "* `framesize`: (width, height) of frame\n",
    "* `isColor`: if not zero (default: `True`), the encoder will encode color frames.\n",
    "\n",
    "The associated method to save the video file is `write(frame)`.\n",
    "\n",
    "**Note** 🗈\n",
    "---\n",
    "> [Fourcc](https://softron.zendesk.com/hc/en-us/articles/207695697-List-of-FourCC-codes-for-video-codecs) is identifier for the video codec, compression format, and color / pixel format in video files. I found combination of _MJPG_ and _.avi_ worked on my laptop and PC running on Windows 11. If your workstations are of different OS, you might have to try out other combinations."
   ]
  },
  {
   "cell_type": "code",
   "execution_count": 9,
   "id": "2cadc872",
   "metadata": {},
   "outputs": [],
   "source": [
    "# Create a VideoCapture object\n",
    "cap = cv.VideoCapture('videos/img_pexels.mp4')\n",
    "\n",
    "# Check if the object has been created successfully\n",
    "if not cap.isOpened():\n",
    "    raise Exception(\"No video detected\")\n",
    "    \n",
    "# Read the frames with loop\n",
    "while cap.isOpened():\n",
    "    ret, frame = cap.read()\n",
    "    \n",
    "    if not ret:\n",
    "        print(\"Can't receive frame\")\n",
    "        break\n",
    "        \n",
    "    cv.namedWindow(\"frame\", cv.WINDOW_NORMAL)\n",
    "    cv.imshow('frame', frame)\n",
    "    # Press Esc key to exit (27 is ASCII code for Esc). cv.waitKey() returns 32 bit integer values. You can find the ASCII table\n",
    "    # on this URL: https://theasciicode.com.ar/\n",
    "    if cv.waitKey(1) & 0xFF == 27:\n",
    "        break\n",
    "        \n",
    "cap.release()\n",
    "cv.destroyAllWindows()"
   ]
  },
  {
   "cell_type": "code",
   "execution_count": 10,
   "id": "1cb3fe81",
   "metadata": {},
   "outputs": [],
   "source": [
    "# Webcam\n",
    "cap = cv.VideoCapture(0)\n",
    "\n",
    "width = int(cap.get(3))\n",
    "height = int(cap.get(4))\n",
    "# define the codec and create VideoWriter object\n",
    "fourcc = cv.VideoWriter_fourcc('M', 'J', 'P', 'G')\n",
    "fps = 20\n",
    "out = cv.VideoWriter('videos/out.avi', fourcc, fps, (width, height))\n",
    "\n",
    "while cap.isOpened():\n",
    "    ret, frame = cap.read()\n",
    "    \n",
    "    if not ret:\n",
    "        print(\"Can't receive frame\")\n",
    "        break\n",
    "    # horizontal flip    \n",
    "    frame = cv.flip(frame, 1)\n",
    "    # write the flipped frame\n",
    "    out.write(frame)\n",
    "    \n",
    "    cv.imshow('frame', frame)\n",
    "    if cv.waitKey(1) & 0xFF == 27:\n",
    "        break\n",
    "        \n",
    "cap.release()\n",
    "out.release()\n",
    "cv.destroyAllWindows()"
   ]
  },
  {
   "cell_type": "markdown",
   "id": "75799437",
   "metadata": {},
   "source": [
    "## Image resizing\n",
    "\n",
    "### 1st way (deep learning project)\n",
    "```\n",
    "cv.resize(img, (w, h), interpolation)\n",
    "```\n",
    "\n",
    "### 2nd way (maintaining the aspect ratio: width, height)\n",
    "```\n",
    "cv.resize(img, None, fx=0.5, fy=0.5, interpolation)\n",
    "```"
   ]
  },
  {
   "cell_type": "code",
   "execution_count": 10,
   "id": "2ba2e5ce",
   "metadata": {},
   "outputs": [
    {
     "name": "stdout",
     "output_type": "stream",
     "text": [
      "(540, 360, 3)\n"
     ]
    }
   ],
   "source": [
    "img = cv.imread(\"images/nature.jpg\")\n",
    "print(img.shape)"
   ]
  },
  {
   "cell_type": "code",
   "execution_count": 20,
   "id": "77b630d2",
   "metadata": {},
   "outputs": [],
   "source": [
    "from utils import display_images\n",
    "\n",
    "img = cv.imread(\"images/nature.jpg\")\n",
    "new_dim = (300, 500)\n",
    "img_small = cv.resize(img, new_dim, interpolation=cv.INTER_LINEAR)\n",
    "\n",
    "display_images([img, img_small], (\"original\", \"resized\"))"
   ]
  },
  {
   "cell_type": "code",
   "execution_count": 21,
   "id": "03a3c20a",
   "metadata": {},
   "outputs": [],
   "source": [
    "img = cv.imread(\"images/soccer.jpg\")\n",
    "\n",
    "# the reasonable range: [0.2, 5]\n",
    "img_large = cv.resize(img, None, fx=1.6, fy=1.6, interpolation=cv.INTER_LINEAR)\n",
    "\n",
    "display_images([img, img_large], (\"original\", \"resized\"))"
   ]
  },
  {
   "cell_type": "markdown",
   "id": "52e8edc4",
   "metadata": {
    "slideshow": {
     "slide_type": "slide"
    }
   },
   "source": [
    "## Image resizing\n",
    "To resize an image, scale it along each axis (height and width), considering the specified _scale factors_ or set the _desired height and width_.\n",
    "\n",
    "When resizing an image:\n",
    "- It is important to be mindful of the original aspect ratio of the image.\n",
    "- Reducing the size of image requires resampling of pixels.\n",
    "- Enlarging requires reconstruction through interpolation. Common interpolation are available in OpenCV:\n",
    "    * `cv.INTER_NEAREST`: nearest neighbor interpolation.\n",
    "    * `cv.INTER_LINEAR`: bilinear interpolation.\n",
    "    * `cv.INTER_CUBIC`: bicubic interpolation (generally slower).\n",
    "More info can be found in OpenCV [online documentation](https://docs.opencv.org/4.x/da/d54/group__imgproc__transform.html#ga5bb5a1fea74ea38e1a5445ca803ff121)\n",
    "\n",
    "> **NOTE:** There are a handful of choice of interpolation methods. The details of the methods will not be discussed here, but will be left as exercise.\n",
    "\n",
    "The function for image resizing is `cv.resize()`:\n",
    "```python\n",
    "cv.resize(src, dsize, fx, fy, interpolation)\n",
    "```\n",
    "1. First argument is the input image.\n",
    "2. dsize: the desired output image dimension.\n",
    "3. fx: scale factor along horizontal axis (width).\n",
    "4. fy: scale factor along vertical axis (height).\n",
    "5. interpolation: option flags stated above.\n",
    "\n",
    "### Example 1: Specify specific output dimension"
   ]
  },
  {
   "cell_type": "code",
   "execution_count": 15,
   "id": "ec2e719b",
   "metadata": {},
   "outputs": [],
   "source": [
    "img = cv.imread('images/soccer.jpg')\n",
    "\n",
    "cv.imshow('original', img)\n",
    "cv.waitKey(0)\n",
    "cv.destroyAllWindows()"
   ]
  },
  {
   "cell_type": "code",
   "execution_count": 16,
   "id": "0c17f67a",
   "metadata": {},
   "outputs": [],
   "source": [
    "new_width = 300\n",
    "new_height = 450\n",
    "\n",
    "img_resize = cv.resize(img, (new_width, new_height), interpolation=cv.INTER_LINEAR)\n",
    "\n",
    "cv.imshow('downscale', img_resize)\n",
    "cv.waitKey(0)\n",
    "cv.destroyAllWindows()"
   ]
  },
  {
   "cell_type": "markdown",
   "id": "461e1a80",
   "metadata": {
    "slideshow": {
     "slide_type": "slide"
    }
   },
   "source": [
    "### Example 2: Resizing with a scaling factor\n",
    "The advantage of using scaling factor for resizing is that it keeps the aspect ratio intact and preserve the display quality."
   ]
  },
  {
   "cell_type": "code",
   "execution_count": 17,
   "id": "61f9dd82",
   "metadata": {},
   "outputs": [],
   "source": [
    "img = cv.imread('images/lena.jfif')\n",
    "\n",
    "img_resize = cv.resize(img, None, fx=1.5, fy=1.5, interpolation=cv.INTER_LINEAR)\n",
    "\n",
    "cv.imshow('upscale', img_resize)\n",
    "cv.waitKey(0)\n",
    "cv.destroyAllWindows()"
   ]
  },
  {
   "cell_type": "markdown",
   "id": "1bd18d01",
   "metadata": {},
   "source": [
    "## Exercises\n",
    "\n",
    "1. Load and display the image 'dog.jfif'. Save the image in png format.\n",
    "2. *Suggest 2 ways and write codes to display 2 images simultaneously.* You can use any image snapped from your handphone, downloaded from internet or images from weekly materials on MS teams. The 2 images are original color image and its corresponding grayscale image.\n",
    "3. Write codes that performs the following:\n",
    "    * Load the video “img_pexels.mp4” into the Python environment, resize it and display the videos with smaller frames (The frames can be of any size, as long as it is smaller). You can specify an arbitrary frame rate.\n",
    "    * Save it as a separate files: “smaller_img_pexels.avi” or \"smaller_img_pexels.mp4\"\n",
    "4. Enlarge the image \"dog.jfif\" by using different techniques:\n",
    "    1) Linear interpolation\n",
    "   2) Cubic interpolation\n",
    "   3) Nearest neighbor interpolation.\n",
    "   4) Lanczos interpolation\n",
    "\n",
    "Upscale the images by 4 times on its respective dimensions. Perform profiling on each method. Comment on the **execution times** and **quality of resulting images**."
   ]
  },
  {
   "cell_type": "markdown",
   "id": "8cdce0b4",
   "metadata": {},
   "source": [
    "## Exercise 1\n",
    "\n",
    "1. Load and display the image 'dog.jfif'. Save the image in png format."
   ]
  },
  {
   "cell_type": "code",
   "execution_count": 14,
   "id": "f039b363",
   "metadata": {},
   "outputs": [],
   "source": [
    "img = cv.imread(\"images/dog.jfif\")\n",
    "\n",
    "if img is None:\n",
    "    sys.exit(\"Image file path not exist!\")\n",
    "\n",
    "cv.imshow(\"dog\", img)\n",
    "\n",
    "k = cv.waitKey(0) & 0xFF\n",
    "if k == ord('s'):\n",
    "    cv.imwrite(\"dog.png\", img)\n",
    "\n",
    "cv.destroyAllWindows()"
   ]
  },
  {
   "cell_type": "markdown",
   "id": "b125d046",
   "metadata": {},
   "source": [
    "## Exercise 2\n",
    "2. *Suggest 2 ways and write codes to display 2 images simultaneously*. You can use any image snapped from your handphone, downloaded from internet or images from weekly materials on MS teams. The 2 images are original color image and its corresponding grayscale image."
   ]
  },
  {
   "cell_type": "code",
   "execution_count": 15,
   "id": "2b536650",
   "metadata": {},
   "outputs": [
    {
     "data": {
      "text/plain": [
       "('images/beautiful nature2.jpg', <http.client.HTTPMessage at 0x198f1367950>)"
      ]
     },
     "execution_count": 15,
     "metadata": {},
     "output_type": "execute_result"
    }
   ],
   "source": [
    "from urllib.request import urlretrieve\n",
    "\n",
    "# first image\n",
    "url = \"https://th.bing.com/th/id/R.78a13c9eb31108addb76f77ada4589ff?rik=b%2fIodCIvyGbxCA&riu=http%3a%2f%2ffiles.all-free-download.com%2fdownloadfiles%2fwallpapers%2f1920_1080%2fpeaceful_lake_wallpaper_landscape_nature_1208.jpg&ehk=6EYMLnN48Cs4mGNjCqvvjwaPz6MF2KRLIUOhJG57Z8g%3d&risl=&pid=ImgRaw&r=0\"\n",
    "\n",
    "urlretrieve(url, \"images/beautiful nature.jpg\")\n",
    "\n",
    "# second image\n",
    "url2 = \"https://img.freepik.com/premium-photo/trail-redwood-forest-california-united-states-america_1143998-278.jpg?w=900\"\n",
    "\n",
    "urlretrieve(url2, \"images/beautiful nature2.jpg\")"
   ]
  },
  {
   "cell_type": "markdown",
   "id": "c84dec32",
   "metadata": {},
   "source": [
    "#### First way:"
   ]
  },
  {
   "cell_type": "code",
   "execution_count": 25,
   "id": "623d33bc",
   "metadata": {},
   "outputs": [],
   "source": [
    "# first image\n",
    "img = cv.imread(\"images/beautiful nature.jpg\")  # img is NumPy array (color, BGR format)\n",
    "img_grayscale = cv.imread(\"images/beautiful nature.jpg\", 0)  # grayscale\n",
    "\n",
    "cv.imshow(\"color\", img)\n",
    "cv.imshow(\"grayscale\", img_grayscale)\n",
    "\n",
    "cv.waitKey(0)  # the window will not quit unless receive ESC keystroke\n",
    "cv.destroyAllWindows()"
   ]
  },
  {
   "cell_type": "code",
   "execution_count": 22,
   "id": "8dea1764",
   "metadata": {},
   "outputs": [],
   "source": [
    "# second image\n",
    "img2 = cv.imread(\"images/beautiful nature2.jpg\")  # img is NumPy array (color, BGR format)\n",
    "img_grayscale2 = cv.imread(\"images/beautiful nature2.jpg\", 0)  # grayscale\n",
    "\n",
    "cv.imshow(\"color\", img2)\n",
    "cv.imshow(\"grayscale\", img_grayscale2)"
   ]
  },
  {
   "cell_type": "markdown",
   "id": "202289b5",
   "metadata": {},
   "source": [
    "#### Second way:"
   ]
  },
  {
   "cell_type": "code",
   "execution_count": 27,
   "id": "66ec4260",
   "metadata": {},
   "outputs": [],
   "source": [
    "from utils import display_images\n",
    "\n",
    "# first image\n",
    "img = cv.imread(\"images/beautiful nature.jpg\")  # img is NumPy array (color, BGR format)\n",
    "img_grayscale = cv.imread(\"images/beautiful nature.jpg\", 0)  # grayscale\n",
    "\n",
    "display_images([img, img_grayscale], (\"color\", \"grayscale\"))"
   ]
  },
  {
   "cell_type": "code",
   "execution_count": 28,
   "id": "9e62d8f0",
   "metadata": {},
   "outputs": [],
   "source": [
    "from utils import display_images\n",
    "\n",
    "# second image\n",
    "img2 = cv.imread(\"images/beautiful nature2.jpg\")  # img is NumPy array (color, BGR format)\n",
    "img_grayscale2 = cv.imread(\"images/beautiful nature2.jpg\", 0)  # grayscale\n",
    "\n",
    "display_images([img2, img_grayscale2], (\"color\", \"grayscale\"))"
   ]
  },
  {
   "cell_type": "markdown",
   "id": "6372c03c",
   "metadata": {},
   "source": [
    "## Exercise 3\n",
    "3. Write codes that performs the following:\n",
    "    * Load the video “img_pexels.mp4” into the Python environment, resize it and display the videos with smaller frames (The frames can be of any size, as long as it is smaller). You can specify an arbitrary frame rate.\n",
    "    \n",
    "    * Save it as a separate files: “smaller_img_pexels.avi” or \"smaller_img_pexels.mp4\""
   ]
  },
  {
   "cell_type": "code",
   "execution_count": 42,
   "id": "188c3c95",
   "metadata": {},
   "outputs": [],
   "source": [
    "cap = cv.VideoCapture('videos/img_pexels.mp4')  # 0: webcam, filepath\n",
    "\n",
    "if not cap.isOpened():\n",
    "    raise Exception(\"The video path not present!\")\n",
    "    \n",
    "original_width = int(cap.get(cv.CAP_PROP_FRAME_WIDTH))\n",
    "original_height = int(cap.get(cv.CAP_PROP_FRAME_HEIGHT))\n",
    "original_fps = int(cap.get(cv.CAP_PROP_FPS))\n",
    "fourcc = cv.VideoWriter_fourcc('M', 'J', 'P', 'G')\n",
    "\n",
    "# Set new dimensions (any relevant adjustable values), new fps and codecc\n",
    "new_width = int(original_width / 2)\n",
    "new_height = int(original_height / 2)\n",
    "new_fps = 16\n",
    "out = cv.VideoWriter('smaller_img_pexels.avi', fourcc, new_fps, (new_width, new_height))\n",
    "\n",
    "# read frame with loop\n",
    "while cap.isOpened():\n",
    "    ret, frame = cap.read()\n",
    "    \n",
    "    if not ret:\n",
    "        print(\"Frame not received!\")\n",
    "        break\n",
    "    \n",
    "    # Resize frame\n",
    "    resized_frame = cv.resize(frame, (new_width, new_height), interpolation=cv.INTER_LINEAR)\n",
    "    \n",
    "    # save the video\n",
    "    out.write(resized_frame)\n",
    "    \n",
    "    cv.namedWindow(\"resized frame\", cv.WINDOW_NORMAL)\n",
    "    cv.imshow(\"resized frame\", resized_frame)\n",
    "    \n",
    "    if cv.waitKey(1) & 0xFF == 27:   # ESC keystroke\n",
    "        break\n",
    "\n",
    "cap.release()\n",
    "out.release()\n",
    "cv.destroyAllWindows()"
   ]
  },
  {
   "cell_type": "markdown",
   "id": "f7f9dbdf",
   "metadata": {},
   "source": [
    "## Exercise 4\n",
    "4. Enlarge the image \"dog.jfif\" by using different techniques:\n",
    "     1) Linear interpolation\n",
    "     2) Cubic interpolation\n",
    "     3) Nearest neighbor interpolation.\n",
    "     4) Lanczos interpolation"
   ]
  },
  {
   "cell_type": "code",
   "execution_count": 44,
   "id": "70faa945",
   "metadata": {},
   "outputs": [
    {
     "name": "stdout",
     "output_type": "stream",
     "text": [
      "(168, 300, 3)\n"
     ]
    }
   ],
   "source": [
    "img = cv.imread(\"images/dog.jfif\")\n",
    "print(img.shape)"
   ]
  },
  {
   "cell_type": "markdown",
   "id": "e689d7bf",
   "metadata": {},
   "source": [
    "#### Linear interpolation"
   ]
  },
  {
   "cell_type": "code",
   "execution_count": 55,
   "id": "7cebcd3d",
   "metadata": {},
   "outputs": [],
   "source": [
    "from utils import display_images\n",
    "\n",
    "img = cv.imread(\"images/dog.jfif\")\n",
    "new_dim = (580, 600)\n",
    "img_large = cv.resize(img, new_dim, interpolation=cv.INTER_LINEAR)\n",
    "\n",
    "display_images([img, img_large], (\"original\", \"resized\"))"
   ]
  },
  {
   "cell_type": "markdown",
   "id": "1aa3daaf",
   "metadata": {},
   "source": [
    "#### Cubic interpolation"
   ]
  },
  {
   "cell_type": "code",
   "execution_count": 56,
   "id": "937c5759",
   "metadata": {},
   "outputs": [],
   "source": [
    "img = cv.imread(\"images/dog.jfif\")\n",
    "new_dim = (580, 600)\n",
    "img_large = cv.resize(img, new_dim, interpolation=cv.INTER_CUBIC)\n",
    "\n",
    "display_images([img, img_large], (\"original\", \"resized\"))"
   ]
  },
  {
   "cell_type": "markdown",
   "id": "aff6070d",
   "metadata": {},
   "source": [
    "#### Nearest neighbor interpolation."
   ]
  },
  {
   "cell_type": "code",
   "execution_count": 57,
   "id": "b09fa423",
   "metadata": {},
   "outputs": [],
   "source": [
    "img = cv.imread(\"images/dog.jfif\")\n",
    "new_dim = (580, 600)\n",
    "img_large = cv.resize(img, new_dim, interpolation=cv.INTER_NEAREST)\n",
    "\n",
    "display_images([img, img_large], (\"original\", \"resized\"))"
   ]
  },
  {
   "cell_type": "markdown",
   "id": "d6d248cc",
   "metadata": {},
   "source": [
    "#### Lanczos interpolation"
   ]
  },
  {
   "cell_type": "code",
   "execution_count": 58,
   "id": "5f83fd54",
   "metadata": {},
   "outputs": [],
   "source": [
    "img = cv.imread(\"images/dog.jfif\")\n",
    "new_dim = (580, 600)\n",
    "img_large = cv.resize(img, new_dim, interpolation=cv.INTER_LANCZOS4)\n",
    "\n",
    "display_images([img, img_large], (\"original\", \"resized\"))"
   ]
  },
  {
   "cell_type": "code",
   "execution_count": null,
   "id": "48364834",
   "metadata": {},
   "outputs": [],
   "source": []
  }
 ],
 "metadata": {
  "kernelspec": {
   "display_name": "Python 3 (ipykernel)",
   "language": "python",
   "name": "python3"
  },
  "language_info": {
   "codemirror_mode": {
    "name": "ipython",
    "version": 3
   },
   "file_extension": ".py",
   "mimetype": "text/x-python",
   "name": "python",
   "nbconvert_exporter": "python",
   "pygments_lexer": "ipython3",
   "version": "3.11.5"
  }
 },
 "nbformat": 4,
 "nbformat_minor": 5
}
