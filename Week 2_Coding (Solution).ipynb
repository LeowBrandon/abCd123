{
 "cells": [
  {
   "cell_type": "markdown",
   "id": "ea07ec3b-eb39-40dc-8149-e9d6123dcfed",
   "metadata": {},
   "source": [
    "# Learning Outcomes\n",
    "* Python basics\n",
    "  * Data types\n",
    "  * More advanced data types (sequence and mapping)\n",
    "  * Define custom functions\n",
    "\n",
    "* Create arrays with NumPy modules\n",
    "* Create image with NumPy and display them wwith matroplotlib"
   ]
  },
  {
   "cell_type": "markdown",
   "id": "55887133-69bf-4a23-8db0-197258db8d9d",
   "metadata": {},
   "source": [
    "## Python basics\n",
    "\n",
    "### Data types\n",
    "\n",
    "| Class | Basic Types |\n",
    "| ------- | --------- |\n",
    "| `int` | Integer |\n",
    "| `float` | floating point number |\n",
    "| `complex` | Complex number |\n",
    "| `str` | string or character |\n",
    "| `bytes`, `bytearray` | bytes |\n",
    "| `bool` | Boolean |"
   ]
  },
  {
   "cell_type": "code",
   "execution_count": 3,
   "id": "5f432067-fd1c-4398-9ce8-ae86f46f6ccb",
   "metadata": {},
   "outputs": [
    {
     "name": "stdout",
     "output_type": "stream",
     "text": [
      "<class 'int'>\n",
      "<class 'float'>\n",
      "<class 'complex'>\n",
      "<class 'str'>\n",
      "<class 'bool'>\n"
     ]
    }
   ],
   "source": [
    "import math\n",
    "print(type(3))\n",
    "print(type(math.pi))\n",
    "print(type(2 + 3j))\n",
    "print(type(\"Python is fun\"))\n",
    "print(type(True))"
   ]
  },
  {
   "cell_type": "code",
   "execution_count": 4,
   "id": "8b6eca37-4d88-4186-b151-e05425fca85a",
   "metadata": {},
   "outputs": [
    {
     "name": "stdout",
     "output_type": "stream",
     "text": [
      "1\n",
      "5.6\n"
     ]
    }
   ],
   "source": [
    "x = 1.5\n",
    "y = \"5.6\"\n",
    "\n",
    "print(int(x))\n",
    "print(float(y))"
   ]
  },
  {
   "cell_type": "markdown",
   "id": "9cf97ac3-10bf-463b-bed3-17ab1a4cfc89",
   "metadata": {},
   "source": [
    "### data types (sequence and mapping)\n",
    "\n",
    "#### List and tuple\n",
    "Store items in a single variable."
   ]
  },
  {
   "cell_type": "code",
   "execution_count": 6,
   "id": "a94b88c1-bdd9-4d7d-a381-bbbad782c7cd",
   "metadata": {},
   "outputs": [
    {
     "name": "stdout",
     "output_type": "stream",
     "text": [
      "['a', 'b', 'c']\n",
      "('a', 'b', 'c')\n"
     ]
    }
   ],
   "source": [
    "mylist = [\"a\", \"b\", \"c\"]\n",
    "mytuple = (\"a\", \"b\", \"c\")\n",
    "\n",
    "print(mylist)\n",
    "print(mytuple)"
   ]
  },
  {
   "cell_type": "code",
   "execution_count": 8,
   "id": "d7d39aef-4091-4d73-a42d-279946a42350",
   "metadata": {},
   "outputs": [
    {
     "data": {
      "text/plain": [
       "[True, 'b', 'c']"
      ]
     },
     "execution_count": 8,
     "metadata": {},
     "output_type": "execute_result"
    }
   ],
   "source": [
    "# List is heterogenous type\n",
    "mylist[0] = True\n",
    "mylist"
   ]
  },
  {
   "cell_type": "code",
   "execution_count": 9,
   "id": "a6ecc297-c5a6-4627-8822-9bf07f31c834",
   "metadata": {},
   "outputs": [
    {
     "ename": "TypeError",
     "evalue": "'tuple' object does not support item assignment",
     "output_type": "error",
     "traceback": [
      "\u001b[1;31m---------------------------------------------------------------------------\u001b[0m",
      "\u001b[1;31mTypeError\u001b[0m                                 Traceback (most recent call last)",
      "Cell \u001b[1;32mIn[9], line 1\u001b[0m\n\u001b[1;32m----> 1\u001b[0m mytuple[\u001b[38;5;241m0\u001b[39m] \u001b[38;5;241m=\u001b[39m \u001b[38;5;28;01mTrue\u001b[39;00m\n",
      "\u001b[1;31mTypeError\u001b[0m: 'tuple' object does not support item assignment"
     ]
    }
   ],
   "source": [
    "mytuple[0] = True"
   ]
  },
  {
   "cell_type": "code",
   "execution_count": 10,
   "id": "a8f45ce2-a9af-4784-a049-2fa940b74881",
   "metadata": {},
   "outputs": [
    {
     "name": "stdout",
     "output_type": "stream",
     "text": [
      "'tuple' object does not support item assignment\n"
     ]
    }
   ],
   "source": [
    "try:\n",
    "    mytuple[0]=True\n",
    "except Exception as e:\n",
    "    print(e)"
   ]
  },
  {
   "cell_type": "markdown",
   "id": "b94733a7-3777-4d66-ba3b-e12e949c0c2e",
   "metadata": {},
   "source": [
    "### dictonary (mapping)\n",
    "Store data in the form of *`key`*: value pairs"
   ]
  },
  {
   "cell_type": "code",
   "execution_count": 11,
   "id": "18e0a5d7-88db-494e-890c-48099ffeda43",
   "metadata": {},
   "outputs": [
    {
     "data": {
      "text/plain": [
       "{'brand': 'Oppo', 'model': 'Reno A78', 'year': 2023, 'price': 999}"
      ]
     },
     "execution_count": 11,
     "metadata": {},
     "output_type": "execute_result"
    }
   ],
   "source": [
    "phone = {\n",
    "    \"brand\": \"Oppo\",\n",
    "    \"model\": \"Reno A78\",\n",
    "    \"year\": 2023,\n",
    "    \"price\": 999\n",
    "}\n",
    "phone"
   ]
  },
  {
   "cell_type": "code",
   "execution_count": 12,
   "id": "884fcb19-1e1d-4025-a10a-7fcabf85a31c",
   "metadata": {},
   "outputs": [
    {
     "name": "stdout",
     "output_type": "stream",
     "text": [
      "dict_keys(['brand', 'model', 'year', 'price'])\n",
      "dict_values(['Oppo', 'Reno A78', 2023, 999])\n",
      "dict_items([('brand', 'Oppo'), ('model', 'Reno A78'), ('year', 2023), ('price', 999)])\n"
     ]
    }
   ],
   "source": [
    "print(phone.keys())\n",
    "print(phone.values())\n",
    "print(phone.items())"
   ]
  },
  {
   "cell_type": "code",
   "execution_count": 13,
   "id": "4bebf45b-83a3-4054-98fb-968c812c1697",
   "metadata": {},
   "outputs": [
    {
     "data": {
      "text/plain": [
       "{'brand': 'Oppo', 'model': 'Reno A78', 'year': 2023, 'price': 900}"
      ]
     },
     "execution_count": 13,
     "metadata": {},
     "output_type": "execute_result"
    }
   ],
   "source": [
    "phone[\"price\"] = 900\n",
    "phone"
   ]
  },
  {
   "cell_type": "markdown",
   "id": "7c535286-cf2e-4470-b3ea-6fef6f4cbe35",
   "metadata": {},
   "source": [
    "### Exercise\n",
    "1. Can you create a list of squared number from $1^2$ to $10^2$?\n",
    "2. Create a dictionary with key as `grocer` and value as `prices` as shown below:\n",
    "```\n",
    "grocer = ['bread', 'milk', 'egg', 'vegetables', 'fish']\n",
    "prices = [4., 5.2, 4.2, 8.5, 20.6]\n",
    "```"
   ]
  },
  {
   "cell_type": "markdown",
   "id": "a719e9d9-b2ab-4671-8924-f4ca25d985f0",
   "metadata": {},
   "source": [
    "### Exercise"
   ]
  },
  {
   "cell_type": "code",
   "execution_count": 15,
   "id": "09e93e53-1f30-42b1-bcbd-ebfb4283a12d",
   "metadata": {},
   "outputs": [],
   "source": [
    "# Question 1:\n",
    "squared_numbers = [i * i for i in range (1, 11)]"
   ]
  },
  {
   "cell_type": "code",
   "execution_count": 16,
   "id": "71ff10ed-ed1f-43a7-946b-1f6e5b9abeb5",
   "metadata": {},
   "outputs": [
    {
     "name": "stdout",
     "output_type": "stream",
     "text": [
      "[1, 4, 9, 16, 25, 36, 49, 64, 81, 100]\n"
     ]
    }
   ],
   "source": [
    "print(squared_numbers)"
   ]
  },
  {
   "cell_type": "code",
   "execution_count": 17,
   "id": "1eba34d8-a53e-49eb-a9d2-24bea00acc35",
   "metadata": {},
   "outputs": [
    {
     "data": {
      "text/plain": [
       "[1, 4, 9, 16, 25, 36, 49, 64, 81, 100]"
      ]
     },
     "execution_count": 17,
     "metadata": {},
     "output_type": "execute_result"
    }
   ],
   "source": [
    "squared_numbers_1 = []\n",
    "\n",
    "for i in range(1, 11):\n",
    "    squared_numbers_1.append(i * i)\n",
    "\n",
    "squared_numbers_1"
   ]
  },
  {
   "cell_type": "code",
   "execution_count": 18,
   "id": "87721316-0b16-44e9-9636-80183fc7a28a",
   "metadata": {},
   "outputs": [
    {
     "name": "stdout",
     "output_type": "stream",
     "text": [
      "{'bread': 4.0, 'milk': 5.2, 'egg': 4.2, 'vegetables': 8.5, 'fish': 20.6}\n"
     ]
    }
   ],
   "source": [
    "# Question 2\n",
    "grocer = ['bread', 'milk', 'egg', 'vegetables', 'fish']\n",
    "prices = [4., 5.2, 4.2, 8.5, 20.6]\n",
    "\n",
    "grocery_prices = dict(zip(grocer, prices))\n",
    "\n",
    "print(grocery_prices)"
   ]
  },
  {
   "cell_type": "code",
   "execution_count": 19,
   "id": "16df036b-364b-407f-8216-14102ec97efa",
   "metadata": {},
   "outputs": [],
   "source": [
    "grocer = ['bread', 'milk', 'egg', 'vegetables', 'fish']\n",
    "prices = [4., 5.2, 4.2, 8.5, 20.6]\n",
    "\n",
    "grocery_prices = {}\n",
    "\n",
    "for k, v in zip(grocer, prices):\n",
    "    grocery_prices[k] = v"
   ]
  },
  {
   "cell_type": "code",
   "execution_count": 20,
   "id": "eb015787-7a94-4f34-a56f-83f2c00906e3",
   "metadata": {},
   "outputs": [
    {
     "data": {
      "text/plain": [
       "{'bread': 4.0, 'milk': 5.2, 'egg': 4.2, 'vegetables': 8.5, 'fish': 20.6}"
      ]
     },
     "execution_count": 20,
     "metadata": {},
     "output_type": "execute_result"
    }
   ],
   "source": [
    "grocery_prices"
   ]
  },
  {
   "cell_type": "markdown",
   "id": "a05cdd5f-e0ef-4e36-97fd-2dee5b643614",
   "metadata": {},
   "source": [
    "### Custom function"
   ]
  },
  {
   "cell_type": "code",
   "execution_count": 21,
   "id": "9f0f8aa7-0708-4584-87f2-cd08db3d23bd",
   "metadata": {},
   "outputs": [],
   "source": [
    "def odd_even(x):\n",
    "    \"\"\"Function to check whether the integer is odd or even\n",
    "    Input\n",
    "    ------\n",
    "    x: must be integer\n",
    "    \n",
    "    Return:\n",
    "    ========\n",
    "    a statement of whether the integer is odd or even\"\"\"\n",
    "    if isinstance(x, int):\n",
    "        if (x % 2 == 0) and (x != 0):\n",
    "            print(f\"{x} is even\")\n",
    "        elif x % 2 == 1:\n",
    "            print(f\"{x} is odd\")\n",
    "        elif x == 0:\n",
    "            print(f\"{x} is neither odd or even\")\n",
    "    else:\n",
    "        print(f\"{x} is not an integer\")\n",
    "        "
   ]
  },
  {
   "cell_type": "code",
   "execution_count": 23,
   "id": "c4524891-45f6-4ee9-a6c5-3ad48495716f",
   "metadata": {},
   "outputs": [
    {
     "name": "stdout",
     "output_type": "stream",
     "text": [
      "0 is neither odd or even\n"
     ]
    }
   ],
   "source": [
    "odd_even(0)"
   ]
  },
  {
   "cell_type": "code",
   "execution_count": 24,
   "id": "e0f03657-ffcc-46ab-bb12-a511883972a6",
   "metadata": {},
   "outputs": [
    {
     "name": "stdout",
     "output_type": "stream",
     "text": [
      "5.6 is not an integer\n"
     ]
    }
   ],
   "source": [
    "odd_even(5.6)"
   ]
  },
  {
   "cell_type": "code",
   "execution_count": 25,
   "id": "3fbf3b5d-951b-4c6b-b254-4332bd5e7663",
   "metadata": {},
   "outputs": [
    {
     "name": "stdout",
     "output_type": "stream",
     "text": [
      "100004 is even\n"
     ]
    }
   ],
   "source": [
    "odd_even(100004)"
   ]
  },
  {
   "cell_type": "code",
   "execution_count": 26,
   "id": "23bf4f86-6575-4a91-83db-d40dca86166e",
   "metadata": {},
   "outputs": [],
   "source": [
    "def factorial(n):\n",
    "    if n >= 0:\n",
    "        return 1 if n <= 0 else n * factorial(n - 1)"
   ]
  },
  {
   "cell_type": "code",
   "execution_count": 27,
   "id": "194970f0-edb1-477d-b989-35cbd86c07b3",
   "metadata": {},
   "outputs": [
    {
     "data": {
      "text/plain": [
       "120"
      ]
     },
     "execution_count": 27,
     "metadata": {},
     "output_type": "execute_result"
    }
   ],
   "source": [
    "factorial(5)"
   ]
  },
  {
   "cell_type": "code",
   "execution_count": 28,
   "id": "35c12c6c-50ef-4531-83b6-7f4516187d5f",
   "metadata": {},
   "outputs": [
    {
     "data": {
      "text/plain": [
       "720"
      ]
     },
     "execution_count": 28,
     "metadata": {},
     "output_type": "execute_result"
    }
   ],
   "source": [
    "factorial(6)"
   ]
  },
  {
   "cell_type": "markdown",
   "id": "1275db7f-2fe6-4746-be85-7f3b7fa08b1c",
   "metadata": {},
   "source": [
    "### NumPy module"
   ]
  },
  {
   "cell_type": "markdown",
   "id": "44a33283-f858-44bb-b171-f8e202df96bb",
   "metadata": {},
   "source": [
    "NumPy cannot sotre heterogenous data type!"
   ]
  },
  {
   "cell_type": "code",
   "execution_count": 30,
   "id": "43e1b3e2-ca6a-49bb-b030-3a7f64814446",
   "metadata": {},
   "outputs": [
    {
     "data": {
      "text/plain": [
       "array([1, 2, 3, 4, 5])"
      ]
     },
     "execution_count": 30,
     "metadata": {},
     "output_type": "execute_result"
    }
   ],
   "source": [
    "import numpy as np\n",
    "\n",
    "a = np.array([1, 2, 3, 4, 5])\n",
    "\n",
    "a"
   ]
  },
  {
   "cell_type": "code",
   "execution_count": 31,
   "id": "7d6ca756-a9f9-4563-b021-d6ce7b04773d",
   "metadata": {},
   "outputs": [
    {
     "data": {
      "text/plain": [
       "numpy.ndarray"
      ]
     },
     "execution_count": 31,
     "metadata": {},
     "output_type": "execute_result"
    }
   ],
   "source": [
    "type(a)"
   ]
  },
  {
   "cell_type": "code",
   "execution_count": 33,
   "id": "0d6214ef-3cac-43e2-9fec-2463e679f608",
   "metadata": {},
   "outputs": [
    {
     "data": {
      "text/plain": [
       "array([ 6,  7,  8,  9, 10])"
      ]
     },
     "execution_count": 33,
     "metadata": {},
     "output_type": "execute_result"
    }
   ],
   "source": [
    "b = np.arange(6, 11)\n",
    "b"
   ]
  },
  {
   "cell_type": "code",
   "execution_count": 34,
   "id": "f0256853-9530-4563-98d6-3a3e3efc3a5c",
   "metadata": {},
   "outputs": [
    {
     "data": {
      "text/plain": [
       "array([ 1,  2,  3,  4,  5,  6,  7,  8,  9, 10])"
      ]
     },
     "execution_count": 34,
     "metadata": {},
     "output_type": "execute_result"
    }
   ],
   "source": [
    "c = np.concatenate((a, b), axis=None)\n",
    "c"
   ]
  },
  {
   "cell_type": "code",
   "execution_count": 36,
   "id": "0012b203-baff-4f4c-a4ce-fb1c6503f7cc",
   "metadata": {},
   "outputs": [
    {
     "data": {
      "text/plain": [
       "(10,)"
      ]
     },
     "execution_count": 36,
     "metadata": {},
     "output_type": "execute_result"
    }
   ],
   "source": [
    "c.shape  # column vector"
   ]
  },
  {
   "cell_type": "code",
   "execution_count": 39,
   "id": "e51c20f7-3587-49b1-9d58-4e27c3dc69c1",
   "metadata": {},
   "outputs": [
    {
     "data": {
      "text/plain": [
       "(1, 5)"
      ]
     },
     "execution_count": 39,
     "metadata": {},
     "output_type": "execute_result"
    }
   ],
   "source": [
    "a = a.reshape((1, -1))\n",
    "b = b.reshape((1, -1))\n",
    "a.shape"
   ]
  },
  {
   "cell_type": "code",
   "execution_count": 41,
   "id": "9d9d27b3-904c-45cd-8a93-c4c06563772c",
   "metadata": {},
   "outputs": [
    {
     "data": {
      "text/plain": [
       "(2, 5)"
      ]
     },
     "execution_count": 41,
     "metadata": {},
     "output_type": "execute_result"
    }
   ],
   "source": [
    "ab = np.concatenate((a, b), axis=0)\n",
    "ab.shape"
   ]
  },
  {
   "cell_type": "code",
   "execution_count": 42,
   "id": "644e084c-da1d-4a35-beda-db59fb4255cb",
   "metadata": {},
   "outputs": [
    {
     "data": {
      "text/plain": [
       "array([[ 1,  2,  3,  4,  5],\n",
       "       [ 6,  7,  8,  9, 10]])"
      ]
     },
     "execution_count": 42,
     "metadata": {},
     "output_type": "execute_result"
    }
   ],
   "source": [
    "ab"
   ]
  },
  {
   "cell_type": "markdown",
   "id": "5da23e7d-335c-48c6-9d6a-ebc2fadb4564",
   "metadata": {},
   "source": [
    "## NumPy and matplotlib"
   ]
  },
  {
   "cell_type": "code",
   "execution_count": 43,
   "id": "8bb3a37a-e4df-44e6-b004-aa88e4bc5e64",
   "metadata": {},
   "outputs": [],
   "source": [
    "import matplotlib.pyplot as plt"
   ]
  },
  {
   "cell_type": "code",
   "execution_count": 44,
   "id": "bb6db84e-53bc-41ff-8ce8-4f4b3fb4800f",
   "metadata": {},
   "outputs": [
    {
     "data": {
      "image/png": "[encoded data removed]",
      "text/plain": [
       "<Figure size 640x480 with 1 Axes>"
      ]
     },
     "metadata": {},
     "output_type": "display_data"
    }
   ],
   "source": [
    "black = np.zeros((200, 200), dtype=np.uint8)\n",
    "\n",
    "plt.imshow(black, cmap=\"gray\", vmin=0, vmax=255)\n",
    "plt.title(\"black image\")\n",
    "plt.show()"
   ]
  },
  {
   "cell_type": "code",
   "execution_count": 47,
   "id": "e0fa80db-4cdb-41a2-b431-d9bcd68b3cee",
   "metadata": {},
   "outputs": [
    {
     "data": {
      "image/png": "[encoded data removed]",
      "text/plain": [
       "<Figure size 640x480 with 1 Axes>"
      ]
     },
     "metadata": {},
     "output_type": "display_data"
    }
   ],
   "source": [
    "white = np.ones((200, 200)) * 255\n",
    "white = np.uint8(white)\n",
    "\n",
    "plt.imshow(white, cmap=\"gray\", vmin=0, vmax=255)\n",
    "plt.title(\"grayscale white image\")\n",
    "plt.show()"
   ]
  },
  {
   "cell_type": "code",
   "execution_count": 45,
   "id": "cc07c8a8-4c52-4545-8ac3-5cc70184494e",
   "metadata": {},
   "outputs": [
    {
     "data": {
      "image/png": "[encoded data removed]",
      "text/plain": [
       "<Figure size 640x480 with 1 Axes>"
      ]
     },
     "metadata": {},
     "output_type": "display_data"
    }
   ],
   "source": [
    "rng = np.random.default_rng(123)\n",
    "random_color_img = rng.integers(0, high=256, size=(100, 100, 3), dtype=np.uint8)\n",
    "plt.imshow(random_color_img)\n",
    "plt.title(\"random noise color image\")\n",
    "plt.xticks([]), plt.yticks([])\n",
    "plt.show()"
   ]
  },
  {
   "cell_type": "markdown",
   "id": "887e8c9c",
   "metadata": {},
   "source": [
    "## Exercises"
   ]
  },
  {
   "cell_type": "markdown",
   "id": "b77d7f46",
   "metadata": {},
   "source": [
    "#### Question 1"
   ]
  },
  {
   "cell_type": "markdown",
   "id": "01b7f266",
   "metadata": {},
   "source": [
    "1. Find the range of values for each of the following data types:\n",
    "   * `uint8`\n",
    "   * `int8`\n",
    "   * `uint32`\n",
    "   * `int32`"
   ]
  },
  {
   "cell_type": "markdown",
   "id": "21952944",
   "metadata": {},
   "source": [
    "#### Solution 1:"
   ]
  },
  {
   "cell_type": "code",
   "execution_count": 1,
   "id": "ca9a21d4",
   "metadata": {},
   "outputs": [
    {
     "name": "stdout",
     "output_type": "stream",
     "text": [
      "uint8 range:\n",
      "Minimum: 0\n",
      "Maximum: 255\n",
      "\n",
      "int8 range:\n",
      "Minimum: -128\n",
      "Maximum: 127\n",
      "\n",
      "uint32 range:\n",
      "Minimum: 0\n",
      "Maximum: 4294967295\n",
      "\n",
      "int32 range:\n",
      "Minimum: -2147483648\n",
      "Maximum: 2147483647\n"
     ]
    }
   ],
   "source": [
    "import numpy as np\n",
    "\n",
    "# uint8\n",
    "print(\"uint8 range:\")\n",
    "print(f\"Minimum: {np.iinfo(np.uint8).min}\")\n",
    "print(f\"Maximum: {np.iinfo(np.uint8).max}\")\n",
    "\n",
    "# int8\n",
    "print(\"\\nint8 range:\")\n",
    "print(f\"Minimum: {np.iinfo(np.int8).min}\")\n",
    "print(f\"Maximum: {np.iinfo(np.int8).max}\")\n",
    "\n",
    "# uint32\n",
    "print(\"\\nuint32 range:\")\n",
    "print(f\"Minimum: {np.iinfo(np.uint32).min}\")\n",
    "print(f\"Maximum: {np.iinfo(np.uint32).max}\")\n",
    "\n",
    "# int32\n",
    "print(\"\\nint32 range:\")\n",
    "print(f\"Minimum: {np.iinfo(np.int32).min}\")\n",
    "print(f\"Maximum: {np.iinfo(np.int32).max}\")"
   ]
  },
  {
   "cell_type": "markdown",
   "id": "94f4abe6",
   "metadata": {},
   "source": [
    "#### Solution 2:"
   ]
  },
  {
   "cell_type": "code",
   "execution_count": 2,
   "id": "330adf5c",
   "metadata": {},
   "outputs": [
    {
     "name": "stdout",
     "output_type": "stream",
     "text": [
      "uint8 range: 0 to 255\n",
      "int8 range: -128 to 127\n",
      "uint32 range: 0 to 4294967295\n",
      "int32 range: -2147483648 to 2147483647\n"
     ]
    }
   ],
   "source": [
    "import numpy as np\n",
    "\n",
    "data_types = [np.uint8, np.int8, np.uint32, np.int32]\n",
    "\n",
    "for dtype in data_types:\n",
    "    info = np.iinfo(dtype)\n",
    "    print(f\"{dtype.__name__} range: {info.min} to {info.max}\")"
   ]
  },
  {
   "cell_type": "markdown",
   "id": "296bcff7",
   "metadata": {},
   "source": [
    "#### Question 2"
   ]
  },
  {
   "cell_type": "markdown",
   "id": "c5510247",
   "metadata": {},
   "source": [
    "2. Try to write a simple custom function to determine whether a given integer is odd or even number."
   ]
  },
  {
   "cell_type": "markdown",
   "id": "6380579e",
   "metadata": {},
   "source": [
    "#### Solution:"
   ]
  },
  {
   "cell_type": "code",
   "execution_count": 3,
   "id": "8f0f9d1b",
   "metadata": {},
   "outputs": [],
   "source": [
    "def odd_or_even(x):\n",
    "    if isinstance(x, int):\n",
    "        if (x % 2 == 0) and (x != 0):\n",
    "            print(f\"{x} is an even number.\")\n",
    "        \n",
    "        elif (x % 2 == 1):\n",
    "            print(f\"{x} is an odd number.\")\n",
    "        \n",
    "        else:\n",
    "            print(f\"{x} is neither an odd or even number.\")\n",
    "    \n",
    "    else:\n",
    "        print(f\"{x} is not an integer.\")"
   ]
  },
  {
   "cell_type": "code",
   "execution_count": 4,
   "id": "dd5848e1",
   "metadata": {},
   "outputs": [
    {
     "name": "stdout",
     "output_type": "stream",
     "text": [
      "2000000000008 is an even number.\n"
     ]
    }
   ],
   "source": [
    "odd_or_even(2000000000008)"
   ]
  },
  {
   "cell_type": "code",
   "execution_count": 5,
   "id": "afee72ed",
   "metadata": {},
   "outputs": [
    {
     "name": "stdout",
     "output_type": "stream",
     "text": [
      "2000000000000000245 is an odd number.\n"
     ]
    }
   ],
   "source": [
    "odd_or_even(2000000000000000245)"
   ]
  },
  {
   "cell_type": "code",
   "execution_count": 6,
   "id": "3bee662f",
   "metadata": {},
   "outputs": [
    {
     "name": "stdout",
     "output_type": "stream",
     "text": [
      "0 is neither an odd or even number.\n"
     ]
    }
   ],
   "source": [
    "odd_or_even(0)"
   ]
  },
  {
   "cell_type": "code",
   "execution_count": 7,
   "id": "42d02835",
   "metadata": {},
   "outputs": [
    {
     "name": "stdout",
     "output_type": "stream",
     "text": [
      "0.0 is not an integer.\n"
     ]
    }
   ],
   "source": [
    "odd_or_even(0.0)"
   ]
  },
  {
   "cell_type": "code",
   "execution_count": 8,
   "id": "92c37e1d",
   "metadata": {},
   "outputs": [
    {
     "name": "stdout",
     "output_type": "stream",
     "text": [
      "5.6 is not an integer.\n"
     ]
    }
   ],
   "source": [
    "odd_or_even(5.6)"
   ]
  },
  {
   "cell_type": "markdown",
   "id": "38019b5c",
   "metadata": {},
   "source": [
    "#### Question 3"
   ]
  },
  {
   "cell_type": "markdown",
   "id": "ef1638ba",
   "metadata": {},
   "source": [
    "3. Write a simple example code to show that Numpy is more efficient in numerical computation of large arrays of data than equivalent Python list."
   ]
  },
  {
   "cell_type": "markdown",
   "id": "f488b534",
   "metadata": {},
   "source": [
    "#### Solution 1:"
   ]
  },
  {
   "cell_type": "code",
   "execution_count": 10,
   "id": "dbf5a460",
   "metadata": {},
   "outputs": [
    {
     "name": "stdout",
     "output_type": "stream",
     "text": [
      "NumPy Time: 0.00498509407043457\n",
      "Python List Time: 0.05292630195617676\n"
     ]
    }
   ],
   "source": [
    "import numpy as np\n",
    "import time\n",
    "\n",
    "# NumPy array performance\n",
    "start_time = time.time()\n",
    "numpy_array = np.arange(10**6)  # Creates a NumPy array with elements from 0 to 999,999 (1 million elements)\n",
    "numpy_sum = np.sum(numpy_array) # Computes the sum of all elements in the NumPy array.\n",
    "print(\"NumPy Time:\", time.time() - start_time) # Measures the time taken to perform these operations and prints the result.\n",
    "\n",
    "# Python list performance\n",
    "start_time = time.time()\n",
    "python_list = list(range(10**6))  # Creates a Python list with elements from 0 to 999,999 (1 million elements).\n",
    "python_sum = sum(python_list)   # Computes the sum of all elements in the Python list.\n",
    "print(\"Python List Time:\", time.time() - start_time)  # Measures the time taken to perform these operations and prints the result."
   ]
  },
  {
   "cell_type": "markdown",
   "id": "63a201bb",
   "metadata": {},
   "source": [
    "#### Solution 2:"
   ]
  },
  {
   "cell_type": "code",
   "execution_count": 11,
   "id": "75f52915",
   "metadata": {},
   "outputs": [],
   "source": [
    "large_n = 1e5  # 100,000\n",
    "\n",
    "# create a list and Numpy array\n",
    "numpy_arr = np.arange(large_n)\n",
    "list_arr = list(range(int(large_n)))"
   ]
  },
  {
   "cell_type": "code",
   "execution_count": 12,
   "id": "43782f08",
   "metadata": {},
   "outputs": [
    {
     "name": "stdout",
     "output_type": "stream",
     "text": [
      "51.8 µs ± 15.4 µs per loop (mean ± std. dev. of 7 runs, 10,000 loops each)\n"
     ]
    }
   ],
   "source": [
    "%timeit res = numpy_arr * 2"
   ]
  },
  {
   "cell_type": "code",
   "execution_count": 13,
   "id": "477abbb9",
   "metadata": {},
   "outputs": [
    {
     "name": "stdout",
     "output_type": "stream",
     "text": [
      "3.5 ms ± 404 µs per loop (mean ± std. dev. of 7 runs, 100 loops each)\n"
     ]
    }
   ],
   "source": [
    "%timeit res = [2 * i for i in list_arr]"
   ]
  },
  {
   "cell_type": "markdown",
   "id": "b7e81e1f",
   "metadata": {},
   "source": [
    "Both solutions show that the `NumPy array` performance is **more efficient** than `list array` in large numerical computations."
   ]
  },
  {
   "cell_type": "markdown",
   "id": "011cf3e8",
   "metadata": {},
   "source": [
    "#### Question 4:"
   ]
  },
  {
   "cell_type": "markdown",
   "id": "8d35f70b",
   "metadata": {},
   "source": [
    "4. Run the following codes:"
   ]
  },
  {
   "cell_type": "code",
   "execution_count": 15,
   "id": "4f9bfdcd",
   "metadata": {},
   "outputs": [],
   "source": [
    "import numpy as np"
   ]
  },
  {
   "cell_type": "code",
   "execution_count": 18,
   "id": "754745c3",
   "metadata": {},
   "outputs": [
    {
     "name": "stdout",
     "output_type": "stream",
     "text": [
      "Initial my_arr:  [0 1 2 3 4 5 6 7 8 9]\n",
      "Initial arr_slice:  [0 1 2 3 4 5 6 7 8 9]\n",
      "my_arr:  [55  1  2  3  4  5  6  7  8  9]\n",
      "arr_slice:  [55  1  2  3  4  5  6  7  8  9]\n"
     ]
    }
   ],
   "source": [
    "# create a 1D array\n",
    "my_arr = np.arange(10)\n",
    "print(\"Initial my_arr: \", my_arr)\n",
    "arr_slice = my_arr\n",
    "print(\"Initial arr_slice: \", arr_slice)\n",
    "\n",
    "# change the first element of arr_slice\n",
    "arr_slice[0] = 55\n",
    "\n",
    "print(\"my_arr: \", my_arr)\n",
    "print(\"arr_slice: \", arr_slice)"
   ]
  },
  {
   "cell_type": "markdown",
   "id": "aa66b1e2",
   "metadata": {},
   "source": [
    "#### Solution:"
   ]
  },
  {
   "cell_type": "code",
   "execution_count": 19,
   "id": "347604f3",
   "metadata": {},
   "outputs": [
    {
     "name": "stdout",
     "output_type": "stream",
     "text": [
      "Initial my_arr:  [0 1 2 3 4 5 6 7 8 9]\n",
      "Initial arr_slice:  [0 1 2 3 4 5 6 7 8 9]\n",
      "my_arr:  [0 1 2 3 4 5 6 7 8 9]\n",
      "arr_slice:  [55  1  2  3  4  5  6  7  8  9]\n"
     ]
    }
   ],
   "source": [
    "# create a 1D array\n",
    "my_arr = np.arange(10)\n",
    "print(\"Initial my_arr: \", my_arr)\n",
    "\n",
    "arr_slice = my_arr.copy()\n",
    "print(\"Initial arr_slice: \", arr_slice)\n",
    "\n",
    "# change the first element of arr_slice\n",
    "arr_slice[0] = 55\n",
    "\n",
    "print(\"my_arr: \", my_arr)\n",
    "print(\"arr_slice: \", arr_slice)"
   ]
  },
  {
   "cell_type": "markdown",
   "id": "b7b04a1c",
   "metadata": {},
   "source": [
    "#### Question 5:"
   ]
  },
  {
   "cell_type": "markdown",
   "id": "9cd561d0",
   "metadata": {},
   "source": [
    "5. Create an image as shown as the following with the help of Numpy and matplotlib modules. You can arbitrarily set the dimension of the image and white circular spot at the middle."
   ]
  },
  {
   "cell_type": "code",
   "execution_count": 35,
   "id": "c0ad6603",
   "metadata": {
    "scrolled": false
   },
   "outputs": [
    {
     "data": {
      "image/png": "[encoded data removed]",
      "text/plain": [
       "<Figure size 640x480 with 1 Axes>"
      ]
     },
     "metadata": {},
     "output_type": "display_data"
    }
   ],
   "source": [
    "import numpy as np\n",
    "import matplotlib.pyplot as plt\n",
    "\n",
    "# Set the dimensions of the image\n",
    "height, width = 1000, 1000\n",
    "\n",
    "# Create a black image\n",
    "image = np.zeros((height, width))\n",
    "\n",
    "# Create a meshgrid\n",
    "y, x = np.ogrid[:height, :width]\n",
    "\n",
    "# Calculate the center of the image\n",
    "center_y, center_x = height // 2, width // 2\n",
    "\n",
    "# Set the radius of the white spot (you can adjust this)\n",
    "radius = 120\n",
    "\n",
    "# Create a circular mask\n",
    "mask = (x - center_x)**2 + (y - center_y)**2 <= radius**2\n",
    "\n",
    "# Apply the mask to create the white spot\n",
    "image[mask] = 1\n",
    "\n",
    "# Display the image\n",
    "plt.imshow(image, cmap='gray')\n",
    "plt.axis('off')  # Turn off axis\n",
    "plt.show()"
   ]
  },
  {
   "cell_type": "code",
   "execution_count": 39,
   "id": "c2ddeafa",
   "metadata": {
    "scrolled": false
   },
   "outputs": [
    {
     "data": {
      "image/png": "[encoded data removed]",
      "text/plain": [
       "<Figure size 640x480 with 1 Axes>"
      ]
     },
     "metadata": {},
     "output_type": "display_data"
    }
   ],
   "source": [
    "import matplotlib.pyplot as plt\n",
    "from matplotlib.patches import Circle\n",
    "\n",
    "# Create a figure and axis\n",
    "fig, ax = plt.subplots()\n",
    "\n",
    "# Set the axis limits and remove ticks\n",
    "ax.set_xlim(0, 1)\n",
    "ax.set_ylim(0, 1)\n",
    "ax.set_xticks([])\n",
    "ax.set_yticks([])\n",
    "\n",
    "# Set background color to black\n",
    "ax.set_facecolor('black')\n",
    "\n",
    "# Create a white circle at the center\n",
    "circle = Circle((0.5, 0.5), 0.1, facecolor='white', edgecolor='none')\n",
    "ax.add_patch(circle)\n",
    "\n",
    "# Display the image\n",
    "plt.show()"
   ]
  },
  {
   "cell_type": "code",
   "execution_count": null,
   "id": "8e555013",
   "metadata": {},
   "outputs": [],
   "source": []
  }
 ],
 "metadata": {
  "kernelspec": {
   "display_name": "Python 3 (ipykernel)",
   "language": "python",
   "name": "python3"
  },
  "language_info": {
   "codemirror_mode": {
    "name": "ipython",
    "version": 3
   },
   "file_extension": ".py",
   "mimetype": "text/x-python",
   "name": "python",
   "nbconvert_exporter": "python",
   "pygments_lexer": "ipython3",
   "version": "3.11.5"
  }
 },
 "nbformat": 4,
 "nbformat_minor": 5
}
