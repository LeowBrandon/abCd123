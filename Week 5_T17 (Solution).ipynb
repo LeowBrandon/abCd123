{
 "cells": [
  {
   "cell_type": "markdown",
   "id": "f6eef668",
   "metadata": {},
   "source": [
    "## Weekly activity\n",
    "1. Rotate image by 45 degrees without cropping the sides of the image. (Hint: There are 2 strategies to tackle these problems). Use \"lena.jfif\" as the input image.\n",
    "    * Use external libraries `imutils`.\n",
    "    * Modify the transformation matrix."
   ]
  },
  {
   "cell_type": "markdown",
   "id": "d8caa737",
   "metadata": {},
   "source": [
    "#### `imutils` library"
   ]
  },
  {
   "cell_type": "code",
   "execution_count": 11,
   "id": "b233f168",
   "metadata": {},
   "outputs": [
    {
     "name": "stdout",
     "output_type": "stream",
     "text": [
      "Collecting imutilsNote: you may need to restart the kernel to use updated packages.\n",
      "\n",
      "  Downloading imutils-0.5.4.tar.gz (17 kB)\n",
      "  Preparing metadata (setup.py): started\n",
      "  Preparing metadata (setup.py): finished with status 'error'\n"
     ]
    },
    {
     "name": "stderr",
     "output_type": "stream",
     "text": [
      "  ERROR: Error [WinError 225] Operation did not complete successfully because the file contains a virus or potentially unwanted software while executing command python setup.py egg_info\n",
      "ERROR: Could not install packages due to an OSError: [WinError 225] Operation did not complete successfully because the file contains a virus or potentially unwanted software\n",
      "\n"
     ]
    }
   ],
   "source": [
    "pip install imutils"
   ]
  },
  {
   "cell_type": "code",
   "execution_count": 12,
   "id": "50fede61",
   "metadata": {},
   "outputs": [
    {
     "ename": "ModuleNotFoundError",
     "evalue": "No module named 'imutils'",
     "output_type": "error",
     "traceback": [
      "\u001b[1;31m---------------------------------------------------------------------------\u001b[0m",
      "\u001b[1;31mModuleNotFoundError\u001b[0m                       Traceback (most recent call last)",
      "Cell \u001b[1;32mIn[12], line 2\u001b[0m\n\u001b[0;32m      1\u001b[0m \u001b[38;5;28;01mimport\u001b[39;00m \u001b[38;5;21;01mcv2\u001b[39;00m \u001b[38;5;28;01mas\u001b[39;00m \u001b[38;5;21;01mcv\u001b[39;00m\n\u001b[1;32m----> 2\u001b[0m \u001b[38;5;28;01mimport\u001b[39;00m \u001b[38;5;21;01mimutils\u001b[39;00m\n\u001b[0;32m      4\u001b[0m \u001b[38;5;66;03m# Load the image\u001b[39;00m\n\u001b[0;32m      5\u001b[0m image \u001b[38;5;241m=\u001b[39m cv\u001b[38;5;241m.\u001b[39mimread(\u001b[38;5;124m\"\u001b[39m\u001b[38;5;124mall images/images/lena.jfif\u001b[39m\u001b[38;5;124m\"\u001b[39m)\n",
      "\u001b[1;31mModuleNotFoundError\u001b[0m: No module named 'imutils'"
     ]
    }
   ],
   "source": [
    "import cv2 as cv\n",
    "import imutils\n",
    "\n",
    "# Load the image\n",
    "image = cv.imread(\"all images/images/lena.jfif\")\n",
    "\n",
    "# Rotate the image by 45 degrees\n",
    "rotated = imutils.rotate(image, 45)\n",
    "\n",
    "# Display the original and rotated images\n",
    "cv.imshow(\"Original Image\", image)\n",
    "cv.imshow(\"Rotated Image\", rotated)\n",
    "\n",
    "# Wait for a key press and close the windows\n",
    "cv.waitKey(0)\n",
    "cv.destroyAllWindows()"
   ]
  },
  {
   "cell_type": "markdown",
   "id": "0985fe83",
   "metadata": {},
   "source": [
    "#### Transformation Matrix"
   ]
  },
  {
   "cell_type": "code",
   "execution_count": 2,
   "id": "4a768446",
   "metadata": {},
   "outputs": [],
   "source": [
    "import cv2 as cv\n",
    "import numpy as np\n",
    "\n",
    "# Load the image\n",
    "image = cv.imread(\"all images/images/lena.jfif\")\n",
    "\n",
    "# Get the dimensions of the image\n",
    "(h, w) = image.shape[:2]\n",
    "\n",
    "# Calculate the center of the image\n",
    "center = (w // 2, h // 2)\n",
    "\n",
    "# Create the rotation matrix\n",
    "M = cv.getRotationMatrix2D(center, 45, 1.0)\n",
    "\n",
    "# Calculate the sine and cosine of the rotation angle\n",
    "abs_cos = abs(M[0, 0])\n",
    "abs_sin = abs(M[0, 1])\n",
    "\n",
    "# Compute the new bounding dimensions of the image\n",
    "new_w = int((h * abs_sin) + (w * abs_cos))\n",
    "new_h = int((h * abs_cos) + (w * abs_sin))\n",
    "\n",
    "# Adjust the rotation matrix to take into account translation\n",
    "M[0, 2] += new_w / 2 - center[0]\n",
    "M[1, 2] += new_h / 2 - center[1]\n",
    "\n",
    "# Perform the rotation and resize the image\n",
    "rotated = cv.warpAffine(image, M, (new_w, new_h))\n",
    "\n",
    "# Display the original and rotated images\n",
    "cv.imshow(\"Original Image\", image)\n",
    "cv.imshow(\"Rotated Image\", rotated)\n",
    "\n",
    "# Wait for a key press and close the windows\n",
    "cv.waitKey(0)\n",
    "cv.destroyAllWindows()"
   ]
  },
  {
   "cell_type": "markdown",
   "id": "f1235632",
   "metadata": {},
   "source": [
    "2. Use the images with titles: _\\\"flower.jfif\\\"_ and _\\\"native-bee.png\\\"_. I want to put flower above an image. If I add two images, it will change color. If I blend it, I get a transparent effect. But I want it to be opaque. If it was a rectangular region, we could use the ROI as we did in the previous section. But flower is not a rectangular region. This is where bitwise operations, like AND, OR, NOT and XOR really come in handy. The associated functions are `cv.bitwise_and()`, `cv.bitwise_or()` and `cv.bitwise_not()`. You need to use `cv.threshold` function to segment the flower. Please refer to [online documentation](https://docs.opencv.org/4.x/d0/d86/tutorial_py_image_arithmetics.html) for more info. The result should resemble the following: \n",
    "   \n",
    "   ![bee and flowers](img_embed/activity3.PNG)"
   ]
  },
  {
   "cell_type": "code",
   "execution_count": 4,
   "id": "790ef337",
   "metadata": {},
   "outputs": [],
   "source": [
    "# Load two images\n",
    "img1 = cv.imread('images/native-bee.png')\n",
    "img2 = cv.imread('images/flower.jfif')\n",
    "assert img1 is not None, \"file could not be read, check with os.path.exists()\"\n",
    "assert img2 is not None, \"file could not be read, check with os.path.exists()\"\n",
    " \n",
    "# I want to put flower on top-left corner, So I create a ROI\n",
    "rows,cols,channels = img2.shape\n",
    "roi = img1[0:rows, 0:cols]\n",
    " \n",
    "# Now create a mask of logo and create its inverse mask also\n",
    "img2gray = cv.cvtColor(img2,cv.COLOR_BGR2GRAY)\n",
    "ret, mask = cv.threshold(img2gray, 90, 255, cv.THRESH_BINARY)\n",
    "mask_inv = cv.bitwise_not(mask)\n",
    " \n",
    "# Now black-out the area of logo in ROI\n",
    "img1_bg = cv.bitwise_and(roi,roi,mask = mask_inv)\n",
    " \n",
    "# Take only region of logo from logo image.\n",
    "img2_fg = cv.bitwise_and(img2,img2,mask = mask)\n",
    " \n",
    "# Put logo in ROI and modify the main image\n",
    "dst = cv.add(img1_bg,img2_fg)\n",
    "img1[0:rows, 0:cols ] = dst\n",
    " \n",
    "cv.imshow('flower_bee',img1)\n",
    "cv.waitKey(0)\n",
    "cv.destroyAllWindows()"
   ]
  },
  {
   "cell_type": "markdown",
   "id": "5f20d3eb",
   "metadata": {},
   "source": [
    "3. Write a function that randomly crop the central region of an image. The method signature should be as shown in the following:\n",
    "```\n",
    "random_center_crop(image, min_crop_ratio, max_crop_ratio)\n",
    "```"
   ]
  },
  {
   "cell_type": "code",
   "execution_count": 7,
   "id": "e0cbefa2",
   "metadata": {},
   "outputs": [],
   "source": [
    "import random\n",
    "from utils import display_images\n",
    "\n",
    "def random_center_crop(image, min_crop_ratio, max_crop_ratio):\n",
    "    \"\"\"\n",
    "    Randomly crops the central region of an image.\n",
    "    \n",
    "    Args:\n",
    "        image (numpy.ndarray): The input image to be cropped.\n",
    "        min_crop_ratio (float): The minimum crop ratio (0.0 to 1.0).\n",
    "        max_crop_ratio (float): The maximum crop ratio (0.0 to 1.0).\n",
    "    \n",
    "    Returns:\n",
    "        numpy.ndarray: The cropped image.\n",
    "    \"\"\"\n",
    "    # Get the dimensions of the input image\n",
    "    height, width = image.shape[:2]\n",
    "    \n",
    "    # Calculate the minimum and maximum crop sizes\n",
    "    min_size = min(height, width)\n",
    "    min_crop_size = int(min_size * min_crop_ratio)\n",
    "    max_crop_size = int(min_size * max_crop_ratio)\n",
    "    \n",
    "    # Generate a random crop size within the specified range\n",
    "    crop_size = random.randint(min_crop_size, max_crop_size)\n",
    "    \n",
    "    # Calculate the starting coordinates for the crop\n",
    "    start_x = (width - crop_size) // 2\n",
    "    start_y = (height - crop_size) // 2\n",
    "    \n",
    "    # Perform the center crop\n",
    "    cropped_image = image[start_y:start_y+crop_size, start_x:start_x+crop_size]\n",
    "    \n",
    "    return cropped_image"
   ]
  },
  {
   "cell_type": "code",
   "execution_count": 9,
   "id": "21645cd3",
   "metadata": {},
   "outputs": [],
   "source": [
    "# Load an image\n",
    "image = cv.imread(\"images/meal.jpg\")\n",
    "\n",
    "# Set the minimum and maximum crop ratios\n",
    "min_crop_ratio = 0.5\n",
    "max_crop_ratio = 0.8\n",
    "\n",
    "# Randomly crop the central region of the image\n",
    "cropped_image = random_center_crop(image, min_crop_ratio, max_crop_ratio)\n",
    "\n",
    "# Display the cropped image\n",
    "display_images([image, cropped_image], (\"original\", \"cropped image\"))\n",
    "cv.waitKey(0)\n",
    "cv.destroyAllWindows()"
   ]
  },
  {
   "cell_type": "markdown",
   "id": "7dc9a1f1",
   "metadata": {},
   "source": [
    "4. Aside from Gaussian noise, name another common type of noise. Write the code to demonstrate how the noise can be included in an image."
   ]
  },
  {
   "cell_type": "markdown",
   "id": "8bc23841",
   "metadata": {},
   "source": [
    "#### Salt-and-Pepper noise"
   ]
  },
  {
   "cell_type": "code",
   "execution_count": 10,
   "id": "d2a6c538",
   "metadata": {},
   "outputs": [],
   "source": [
    "def add_salt_and_pepper_noise(image, salt_prob, pepper_prob):\n",
    "    \"\"\"\n",
    "    Add salt and pepper noise to an image.\n",
    "    \n",
    "    Args:\n",
    "        image (numpy.ndarray): The input image to which noise will be added.\n",
    "        salt_prob (float): The probability of adding salt noise (white pixels).\n",
    "        pepper_prob (float): The probability of adding pepper noise (black pixels).\n",
    "    \n",
    "    Returns:\n",
    "        numpy.ndarray: The noisy image.\n",
    "    \"\"\"\n",
    "    noisy_image = np.copy(image)\n",
    "    \n",
    "    # Get the dimensions of the image\n",
    "    total_pixels = image.size\n",
    "    num_salt = np.ceil(salt_prob * total_pixels)\n",
    "    num_pepper = np.ceil(pepper_prob * total_pixels)\n",
    "\n",
    "    # Add salt noise (white pixels)\n",
    "    for _ in range(int(num_salt)):\n",
    "        y = random.randint(0, image.shape[0] - 1)\n",
    "        x = random.randint(0, image.shape[1] - 1)\n",
    "        noisy_image[y, x] = 255  # Set pixel to white\n",
    "\n",
    "    # Add pepper noise (black pixels)\n",
    "    for _ in range(int(num_pepper)):\n",
    "        y = random.randint(0, image.shape[0] - 1)\n",
    "        x = random.randint(0, image.shape[1] - 1)\n",
    "        noisy_image[y, x] = 0  # Set pixel to black\n",
    "\n",
    "    return noisy_image\n",
    "\n",
    "# Load an image\n",
    "image = cv.imread('images/meal.jpg')\n",
    "\n",
    "# Add salt and pepper noise to the image\n",
    "salt_prob = 0.02  # 2% salt noise\n",
    "pepper_prob = 0.02  # 2% pepper noise\n",
    "noisy_image = add_salt_and_pepper_noise(image, salt_prob, pepper_prob)\n",
    "\n",
    "# Display the original and noisy images\n",
    "cv.imshow('Original Image', image)\n",
    "cv.imshow('Salt and Pepper Noisy Image', noisy_image)\n",
    "\n",
    "# Wait for a key press and close the windows\n",
    "cv.waitKey(0)\n",
    "cv.destroyAllWindows()"
   ]
  },
  {
   "cell_type": "code",
   "execution_count": null,
   "id": "74430027",
   "metadata": {},
   "outputs": [],
   "source": []
  }
 ],
 "metadata": {
  "kernelspec": {
   "display_name": "Python 3 (ipykernel)",
   "language": "python",
   "name": "python3"
  },
  "language_info": {
   "codemirror_mode": {
    "name": "ipython",
    "version": 3
   },
   "file_extension": ".py",
   "mimetype": "text/x-python",
   "name": "python",
   "nbconvert_exporter": "python",
   "pygments_lexer": "ipython3",
   "version": "3.11.5"
  }
 },
 "nbformat": 4,
 "nbformat_minor": 5
}
